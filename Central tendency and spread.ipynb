{
 "cells": [
  {
   "cell_type": "code",
   "execution_count": 1,
   "id": "472284ac-e9f4-4d0e-ad9e-ec08974e402e",
   "metadata": {},
   "outputs": [],
   "source": [
    "import pandas as pd\n",
    "import numpy as np"
   ]
  },
  {
   "cell_type": "code",
   "execution_count": 3,
   "id": "f0c35af3-0ea1-4b9f-923e-e92a4ffcd662",
   "metadata": {},
   "outputs": [],
   "source": [
    "# Central Tendency - Mwan, Median and Mode"
   ]
  },
  {
   "cell_type": "code",
   "execution_count": 11,
   "id": "3a152a4a-d4ce-450b-b039-4b4963d65580",
   "metadata": {},
   "outputs": [],
   "source": [
    "import matplotlib.pyplot as plt\n",
    "import seaborn as sns\n",
    "from scipy import stats\n"
   ]
  },
  {
   "cell_type": "code",
   "execution_count": 13,
   "id": "e453c78b-694b-4dbd-ba29-0d65308f58bd",
   "metadata": {},
   "outputs": [],
   "source": [
    "data = [10,1,7,4,4,5,6,4,6,10]"
   ]
  },
  {
   "cell_type": "code",
   "execution_count": 15,
   "id": "d176968f-8c9a-433b-9b80-aea496405f9c",
   "metadata": {},
   "outputs": [
    {
     "name": "stdout",
     "output_type": "stream",
     "text": [
      "10\n"
     ]
    }
   ],
   "source": [
    "print(len(data))"
   ]
  },
  {
   "cell_type": "code",
   "execution_count": 19,
   "id": "3bf7e11b-b6fd-4f5f-9f41-56098e63050a",
   "metadata": {},
   "outputs": [
    {
     "name": "stdout",
     "output_type": "stream",
     "text": [
      "Mean 5.7\n"
     ]
    }
   ],
   "source": [
    "#Mean of the data\n",
    "mean_value = np.mean(data)\n",
    "print(\"Mean\", mean_value)"
   ]
  },
  {
   "cell_type": "code",
   "execution_count": 21,
   "id": "34deb3f2-094a-46bc-84fb-85738136c50a",
   "metadata": {},
   "outputs": [
    {
     "name": "stdout",
     "output_type": "stream",
     "text": [
      "Median 5.5\n"
     ]
    }
   ],
   "source": [
    "#Median of the data\n",
    "median_value = np.median(data)\n",
    "print(\"Median\", median_value)"
   ]
  },
  {
   "cell_type": "code",
   "execution_count": 25,
   "id": "a33e4c36-ddad-44da-8b51-5ef00523e5ac",
   "metadata": {},
   "outputs": [
    {
     "name": "stdout",
     "output_type": "stream",
     "text": [
      "Mode ModeResult(mode=4, count=3)\n"
     ]
    }
   ],
   "source": [
    "#Mode of the data\n",
    "mode_value = stats.mode(data)\n",
    "print(\"Mode\", mode_value)"
   ]
  },
  {
   "cell_type": "code",
   "execution_count": 27,
   "id": "adca3a93-cceb-44dc-8b8c-59b64192b233",
   "metadata": {},
   "outputs": [
    {
     "name": "stdout",
     "output_type": "stream",
     "text": [
      "Mode 4\n"
     ]
    }
   ],
   "source": [
    "#Mode of the data\n",
    "mode_value = stats.mode(data).mode\n",
    "print(\"Mode\", mode_value)"
   ]
  },
  {
   "cell_type": "code",
   "execution_count": 35,
   "id": "cabbab30-23fa-45b9-8cba-738612ded50a",
   "metadata": {},
   "outputs": [],
   "source": [
    "# if in two dimensional data, it could be \n",
    "# df[data_column].mean()\n",
    "# df[data_column].meadian\n",
    "# df[data_column].mode()\n",
    "\n",
    "#filled using like\n",
    "# df[data_column]= df[data_column].fillna(df[data_column].mean())"
   ]
  },
  {
   "cell_type": "code",
   "execution_count": 33,
   "id": "b5794dc7-b5bd-4822-a0fb-a570c26b9bb9",
   "metadata": {},
   "outputs": [],
   "source": [
    "# Measures of Spread -- Range , Variance and Standard deviation"
   ]
  },
  {
   "cell_type": "code",
   "execution_count": 37,
   "id": "66fd04b7-23a6-4bcc-a856-3596af9f1fe0",
   "metadata": {},
   "outputs": [],
   "source": [
    "a= [5,10,15,20,25,30,35,40]"
   ]
  },
  {
   "cell_type": "code",
   "execution_count": 40,
   "id": "6f480c53-5697-4620-bf8f-0ac3d44c0db0",
   "metadata": {},
   "outputs": [],
   "source": [
    "#Range\n",
    "def calculate_range(a):\n",
    "    return max(a) - min(a)"
   ]
  },
  {
   "cell_type": "code",
   "execution_count": 42,
   "id": "5659bccc-a758-4229-ace0-705ca0dc49c5",
   "metadata": {},
   "outputs": [
    {
     "name": "stdout",
     "output_type": "stream",
     "text": [
      "Range 35\n"
     ]
    }
   ],
   "source": [
    "range_value = calculate_range(a)\n",
    "\n",
    "print(\"Range\", range_value)"
   ]
  },
  {
   "cell_type": "code",
   "execution_count": 46,
   "id": "c06f00a1-48ba-4b06-9a7d-70160f50c728",
   "metadata": {},
   "outputs": [],
   "source": [
    "#Variance\n",
    "def calculate_variance(a):\n",
    "    mean = sum(a)/len(a)\n",
    "    return sum((x-mean)**2 for x in a) / len(a)"
   ]
  },
  {
   "cell_type": "code",
   "execution_count": 48,
   "id": "345a751e-e764-4548-bbf4-5deeb8b27ecc",
   "metadata": {},
   "outputs": [
    {
     "name": "stdout",
     "output_type": "stream",
     "text": [
      "Population Variance 131.25\n"
     ]
    }
   ],
   "source": [
    "variance_value = calculate_variance(a)\n",
    "\n",
    "print(\"Population Variance\", variance_value)"
   ]
  },
  {
   "cell_type": "code",
   "execution_count": 50,
   "id": "04f83e26-7a8b-4a03-9386-5807135693a0",
   "metadata": {},
   "outputs": [],
   "source": [
    "# Standard deviation\n",
    "def calculate_standard_deviation(a):\n",
    "    variance = calculate_variance(a)\n",
    "    return variance**0.5"
   ]
  },
  {
   "cell_type": "code",
   "execution_count": 52,
   "id": "111f9861-fc1b-49b0-8b18-509d68a24aed",
   "metadata": {},
   "outputs": [
    {
     "name": "stdout",
     "output_type": "stream",
     "text": [
      "Population Standard Deviation 11.456439237389601\n"
     ]
    }
   ],
   "source": [
    "std_value = calculate_standard_deviation(a)\n",
    "\n",
    "print(\"Population Standard Deviation\", std_value)"
   ]
  },
  {
   "cell_type": "code",
   "execution_count": null,
   "id": "f57b2580-62e7-4577-a310-ec8d98085042",
   "metadata": {},
   "outputs": [],
   "source": [
    "# Range= df[column_name].max() - df[column_name].min()\n",
    "# sample_Variance = df[column_name].var()\n",
    "# Population_variance = df[column_name].var(ddof=0)\n",
    "# sample_Standard_deviation = df[column_name].std()\n",
    "# population_Standard_deviation = df[column_name].std(ddof=0)"
   ]
  }
 ],
 "metadata": {
  "kernelspec": {
   "display_name": "Python 3 (ipykernel)",
   "language": "python",
   "name": "python3"
  },
  "language_info": {
   "codemirror_mode": {
    "name": "ipython",
    "version": 3
   },
   "file_extension": ".py",
   "mimetype": "text/x-python",
   "name": "python",
   "nbconvert_exporter": "python",
   "pygments_lexer": "ipython3",
   "version": "3.12.7"
  }
 },
 "nbformat": 4,
 "nbformat_minor": 5
}
